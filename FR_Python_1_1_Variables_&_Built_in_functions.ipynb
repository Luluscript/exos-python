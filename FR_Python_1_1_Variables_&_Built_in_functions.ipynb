{
  "nbformat": 4,
  "nbformat_minor": 0,
  "metadata": {
    "colab": {
      "provenance": [],
      "include_colab_link": true
    },
    "kernelspec": {
      "name": "python3",
      "display_name": "Python 3"
    },
    "language_info": {
      "name": "python"
    }
  },
  "cells": [
    {
      "cell_type": "markdown",
      "metadata": {
        "id": "view-in-github",
        "colab_type": "text"
      },
      "source": [
        "<a href=\"https://colab.research.google.com/github/Luluscript/exos-python/blob/main/FR_Python_1_1_Variables_%26_Built_in_functions.ipynb\" target=\"_parent\"><img src=\"https://colab.research.google.com/assets/colab-badge.svg\" alt=\"Open In Colab\"/></a>"
      ]
    },
    {
      "cell_type": "markdown",
      "source": [
        "# Type"
      ],
      "metadata": {
        "id": "p0IY6ccQKu9_"
      }
    },
    {
      "cell_type": "markdown",
      "source": [
        "1. Dans la cellule de code ci-dessous, quel est, pour chaque cellule, le type de l'objet x ?  \n",
        "`indice`: vous pouvez utiliser `type(x)` pour le révéler."
      ],
      "metadata": {
        "id": "chbM0tgeZpEf"
      }
    },
    {
      "cell_type": "markdown",
      "source": [
        "1.1"
      ],
      "metadata": {
        "id": "gw9bORxUJxGm"
      }
    },
    {
      "cell_type": "code",
      "execution_count": 2,
      "metadata": {
        "id": "WjJmN0AxZBLw",
        "colab": {
          "base_uri": "https://localhost:8080/"
        },
        "outputId": "306ddf2a-614c-4642-b18e-530e9f46ec90"
      },
      "outputs": [
        {
          "output_type": "execute_result",
          "data": {
            "text/plain": [
              "int"
            ]
          },
          "metadata": {},
          "execution_count": 2
        }
      ],
      "source": [
        "x = 5\n",
        "type(x)\n",
        "\n"
      ]
    },
    {
      "cell_type": "markdown",
      "source": [
        "1.2"
      ],
      "metadata": {
        "id": "3IfX8iZxJyQ2"
      }
    },
    {
      "cell_type": "code",
      "source": [
        "x = \"Hello World\"\n",
        "type(x)\n"
      ],
      "metadata": {
        "id": "latNGJ8caLkY",
        "colab": {
          "base_uri": "https://localhost:8080/"
        },
        "outputId": "0a4f6007-0f35-4ccc-9cc0-eccd4dd0bd5d"
      },
      "execution_count": 3,
      "outputs": [
        {
          "output_type": "execute_result",
          "data": {
            "text/plain": [
              "str"
            ]
          },
          "metadata": {},
          "execution_count": 3
        }
      ]
    },
    {
      "cell_type": "markdown",
      "source": [
        "1.3"
      ],
      "metadata": {
        "id": "-Elw3kFRJzKd"
      }
    },
    {
      "cell_type": "code",
      "source": [
        "x = 2.5\n",
        "type(x)"
      ],
      "metadata": {
        "id": "tf7IgsXZa15e",
        "colab": {
          "base_uri": "https://localhost:8080/"
        },
        "outputId": "995cb77e-9ca6-486b-840c-c6219a71a30a"
      },
      "execution_count": 4,
      "outputs": [
        {
          "output_type": "execute_result",
          "data": {
            "text/plain": [
              "float"
            ]
          },
          "metadata": {},
          "execution_count": 4
        }
      ]
    },
    {
      "cell_type": "markdown",
      "source": [
        "1.4"
      ],
      "metadata": {
        "id": "5CJ3Q9qfJ0xJ"
      }
    },
    {
      "cell_type": "code",
      "source": [
        "x = [\"mintcream\", \"burlywood\", \"salmon\"]\n",
        "type(x)"
      ],
      "metadata": {
        "id": "6YNM6DLHa50P",
        "colab": {
          "base_uri": "https://localhost:8080/"
        },
        "outputId": "73c1967c-1e00-4a4a-b620-658a3abdb712"
      },
      "execution_count": 5,
      "outputs": [
        {
          "output_type": "execute_result",
          "data": {
            "text/plain": [
              "list"
            ]
          },
          "metadata": {},
          "execution_count": 5
        }
      ]
    },
    {
      "cell_type": "markdown",
      "source": [
        "1.5"
      ],
      "metadata": {
        "id": "E3ro5cT-J1sV"
      }
    },
    {
      "cell_type": "code",
      "source": [
        "x = (\"mintcream\", \"burlywood\", \"salmon\")\n",
        "type(x)"
      ],
      "metadata": {
        "id": "wCaEFel6a-Fd",
        "colab": {
          "base_uri": "https://localhost:8080/"
        },
        "outputId": "9bde50cd-784d-4d63-8b30-dd7a797658b2"
      },
      "execution_count": 6,
      "outputs": [
        {
          "output_type": "execute_result",
          "data": {
            "text/plain": [
              "tuple"
            ]
          },
          "metadata": {},
          "execution_count": 6
        }
      ]
    },
    {
      "cell_type": "markdown",
      "source": [
        "1.6"
      ],
      "metadata": {
        "id": "eGBMyBrjJ2xe"
      }
    },
    {
      "cell_type": "code",
      "source": [
        "x = {\"name\": \"Jules César\", \"Job\": \"Musician\", \"age\": 55}\n",
        "type(x)"
      ],
      "metadata": {
        "id": "gO0rMS0ubLkg",
        "colab": {
          "base_uri": "https://localhost:8080/"
        },
        "outputId": "45075350-996c-40e3-e873-1e3cfead2c27"
      },
      "execution_count": 7,
      "outputs": [
        {
          "output_type": "execute_result",
          "data": {
            "text/plain": [
              "dict"
            ]
          },
          "metadata": {},
          "execution_count": 7
        }
      ]
    },
    {
      "cell_type": "markdown",
      "source": [
        "1.7"
      ],
      "metadata": {
        "id": "n2IIfrgNJ4Ln"
      }
    },
    {
      "cell_type": "code",
      "source": [
        "x = True\n",
        "type(x)"
      ],
      "metadata": {
        "id": "lpPCkWfWbY3N",
        "colab": {
          "base_uri": "https://localhost:8080/"
        },
        "outputId": "1ef06c74-1d90-4891-9149-160a57a3a532"
      },
      "execution_count": 8,
      "outputs": [
        {
          "output_type": "execute_result",
          "data": {
            "text/plain": [
              "bool"
            ]
          },
          "metadata": {},
          "execution_count": 8
        }
      ]
    },
    {
      "cell_type": "markdown",
      "source": [
        "2. Maintenant, vous allez devoir convertir des objets d'un certain type, en un autre type d'objet.  \n",
        "C'est parti !"
      ],
      "metadata": {
        "id": "J-YXtU1Yb2pi"
      }
    },
    {
      "cell_type": "markdown",
      "source": [
        "2.1 Convertissez x en float."
      ],
      "metadata": {
        "id": "yerUe3q7cMmR"
      }
    },
    {
      "cell_type": "code",
      "source": [
        "\n",
        "x = 5\n",
        "float(5)\n"
      ],
      "metadata": {
        "id": "yVs2Ry3NbpEW",
        "colab": {
          "base_uri": "https://localhost:8080/"
        },
        "outputId": "6b20fc25-1959-4011-a82f-e286a3c43d49"
      },
      "execution_count": 16,
      "outputs": [
        {
          "output_type": "execute_result",
          "data": {
            "text/plain": [
              "5.0"
            ]
          },
          "metadata": {},
          "execution_count": 16
        }
      ]
    },
    {
      "cell_type": "markdown",
      "source": [
        "2.2 Convertissez x en int"
      ],
      "metadata": {
        "id": "q0LodnjUcPyl"
      }
    },
    {
      "cell_type": "code",
      "source": [
        "x = 5.4\n",
        "int(5.4)"
      ],
      "metadata": {
        "id": "0Ffo568UcJBg",
        "colab": {
          "base_uri": "https://localhost:8080/"
        },
        "outputId": "ca1abc6f-703c-4eee-efb1-e85c66b613c2"
      },
      "execution_count": 17,
      "outputs": [
        {
          "output_type": "execute_result",
          "data": {
            "text/plain": [
              "5"
            ]
          },
          "metadata": {},
          "execution_count": 17
        }
      ]
    },
    {
      "cell_type": "markdown",
      "source": [
        "2.3 Convertissez x en int"
      ],
      "metadata": {
        "id": "--gnDHGLcYin"
      }
    },
    {
      "cell_type": "code",
      "source": [
        "x = 5.6\n",
        "int(5.6)\n"
      ],
      "metadata": {
        "id": "oi21CeBVcTLH",
        "colab": {
          "base_uri": "https://localhost:8080/"
        },
        "outputId": "f72bc0db-ab0e-4b83-9879-f6d7c0c4c481"
      },
      "execution_count": 18,
      "outputs": [
        {
          "output_type": "execute_result",
          "data": {
            "text/plain": [
              "5"
            ]
          },
          "metadata": {},
          "execution_count": 18
        }
      ]
    },
    {
      "cell_type": "markdown",
      "source": [
        "2.4 Que pouvez-vous remarquer ?"
      ],
      "metadata": {
        "id": "ZYsPxH7vcho9"
      }
    },
    {
      "cell_type": "markdown",
      "source": [
        "Réponse: Pour la comversion en float un point est ajoute. Pour la conversion en int le chiffre est tronque et non arrondis a la valeur la plus proche.\n"
      ],
      "metadata": {
        "id": "Le9gddo6ckPP"
      }
    },
    {
      "cell_type": "markdown",
      "source": [],
      "metadata": {
        "id": "iRXIY01WLQna"
      }
    },
    {
      "cell_type": "markdown",
      "source": [
        "2.5 Trouvez le moyen d'arrondir x."
      ],
      "metadata": {
        "id": "YmPGqs_FcmZh"
      }
    },
    {
      "cell_type": "code",
      "source": [
        "x = 5.6\n",
        "round(x)\n",
        "\n",
        "\n"
      ],
      "metadata": {
        "id": "UUInqFe9cbMJ",
        "colab": {
          "base_uri": "https://localhost:8080/"
        },
        "outputId": "d91cce68-dd43-4a3c-c71c-bd117f9f1c00"
      },
      "execution_count": 23,
      "outputs": [
        {
          "output_type": "execute_result",
          "data": {
            "text/plain": [
              "6"
            ]
          },
          "metadata": {},
          "execution_count": 23
        }
      ]
    },
    {
      "cell_type": "markdown",
      "source": [
        "2.6 Après avoir arrondi x, est-ce que x est toujours un `float` ?  \n",
        "Réponse: Oui car round ne modifie pas le type."
      ],
      "metadata": {
        "id": "OGJ4a9Abc7Jj"
      }
    },
    {
      "cell_type": "markdown",
      "source": [
        "2.7 Ci-dessous, est-ce que x est un `int` ?"
      ],
      "metadata": {
        "id": "deL_WAeRdN8Y"
      }
    },
    {
      "cell_type": "code",
      "source": [
        "x = 6.0\n",
        "type(x)\n"
      ],
      "metadata": {
        "id": "BZqcem6pcvWh",
        "colab": {
          "base_uri": "https://localhost:8080/"
        },
        "outputId": "e45f14e9-0833-440e-e636-ddc5c312fd37"
      },
      "execution_count": 19,
      "outputs": [
        {
          "output_type": "execute_result",
          "data": {
            "text/plain": [
              "float"
            ]
          },
          "metadata": {},
          "execution_count": 19
        }
      ]
    },
    {
      "cell_type": "markdown",
      "source": [
        "2.8 Arrondissez x avec 3 valeurs décimales."
      ],
      "metadata": {
        "id": "AtfSIpVoda02"
      }
    },
    {
      "cell_type": "code",
      "source": [
        "x = 3.14159265359\n",
        "round(x, 3)"
      ],
      "metadata": {
        "id": "rqf7z-e6dUYW",
        "colab": {
          "base_uri": "https://localhost:8080/"
        },
        "outputId": "41847db5-0a26-47f6-8783-ed74a7084a97"
      },
      "execution_count": 24,
      "outputs": [
        {
          "output_type": "execute_result",
          "data": {
            "text/plain": [
              "3.142"
            ]
          },
          "metadata": {},
          "execution_count": 24
        }
      ]
    },
    {
      "cell_type": "markdown",
      "source": [
        "# Built-in Function"
      ],
      "metadata": {
        "id": "JErtlPWEK1Tj"
      }
    },
    {
      "cell_type": "markdown",
      "source": [
        "3.1 Utilisez une [built-in function](https://docs.python.org/3/library/functions.html) pour compter le nombre de lettres dans l'objet de type `string` suivant:"
      ],
      "metadata": {
        "id": "omp-PFHNd9pe"
      }
    },
    {
      "cell_type": "code",
      "source": [
        "x = \"Hello World\"\n",
        "len(x)"
      ],
      "metadata": {
        "id": "nZbmZIzOdpGy",
        "colab": {
          "base_uri": "https://localhost:8080/"
        },
        "outputId": "1da7e50c-ef8d-4ab9-913f-62314e27a2f9"
      },
      "execution_count": 28,
      "outputs": [
        {
          "output_type": "execute_result",
          "data": {
            "text/plain": [
              "11"
            ]
          },
          "metadata": {},
          "execution_count": 28
        }
      ]
    },
    {
      "cell_type": "markdown",
      "source": [
        "3.2 Utilisez une built-in function pour compter le nombre d'éléments dans l'objet de type `list` suivant:"
      ],
      "metadata": {
        "id": "oQvcgJFsegje"
      }
    },
    {
      "cell_type": "code",
      "source": [
        "x = [\"non\", \"pas\", 1, \"ni\", 2, \"ni\", 3, \"mais\", 7.2132]\n",
        "len(x)\n",
        "\n"
      ],
      "metadata": {
        "id": "Xlu7vug7eT19",
        "colab": {
          "base_uri": "https://localhost:8080/"
        },
        "outputId": "7414a4f7-dd54-4da9-d720-7ff488897bfe"
      },
      "execution_count": 30,
      "outputs": [
        {
          "output_type": "execute_result",
          "data": {
            "text/plain": [
              "9"
            ]
          },
          "metadata": {},
          "execution_count": 30
        }
      ]
    },
    {
      "cell_type": "markdown",
      "source": [
        "3.3 Utilisez une built-in function sur une des deux variables pour que `resultat`  contienne une valeur positive."
      ],
      "metadata": {
        "id": "e_y4P_HfO6Sa"
      }
    },
    {
      "cell_type": "code",
      "source": [
        "var_1 = 4\n",
        "var_2 = -5\n",
        "\n",
        "resultat = abs(var_1 + var_2)\n",
        "print(resultat)"
      ],
      "metadata": {
        "id": "EAiCfX-pO8ag",
        "colab": {
          "base_uri": "https://localhost:8080/"
        },
        "outputId": "524ca21a-18b9-4d02-99d0-6255710e8b58"
      },
      "execution_count": 33,
      "outputs": [
        {
          "output_type": "stream",
          "name": "stdout",
          "text": [
            "1\n"
          ]
        }
      ]
    },
    {
      "cell_type": "markdown",
      "source": [
        "3.4 Utilisez une built-in function pour renvoyer la valeur minimum de la `list` suivante:"
      ],
      "metadata": {
        "id": "tpdiCu2TPvVP"
      }
    },
    {
      "cell_type": "code",
      "source": [
        "a_list = [3.2, 41, 2, 23, 7]\n",
        "min(a_list)\n"
      ],
      "metadata": {
        "id": "AipGfEYUP4CQ",
        "colab": {
          "base_uri": "https://localhost:8080/"
        },
        "outputId": "5fef15b5-04a2-402a-a195-e59b9f6c4826"
      },
      "execution_count": 34,
      "outputs": [
        {
          "output_type": "execute_result",
          "data": {
            "text/plain": [
              "2"
            ]
          },
          "metadata": {},
          "execution_count": 34
        }
      ]
    },
    {
      "cell_type": "markdown",
      "source": [
        "3.5 Utilisez une built-in function pour renvoyer la somme des valeurs de la `list` suivante:"
      ],
      "metadata": {
        "id": "T1wT0YOhQKhL"
      }
    },
    {
      "cell_type": "code",
      "source": [
        "a_list = [3.2, 41, 2, 23, 7]\n",
        "sum(a_list)"
      ],
      "metadata": {
        "id": "5uBfLsKyQjgz",
        "colab": {
          "base_uri": "https://localhost:8080/"
        },
        "outputId": "52a74db6-fb59-4660-c2da-d00fbe39787c"
      },
      "execution_count": 35,
      "outputs": [
        {
          "output_type": "execute_result",
          "data": {
            "text/plain": [
              "76.2"
            ]
          },
          "metadata": {},
          "execution_count": 35
        }
      ]
    }
  ]
}